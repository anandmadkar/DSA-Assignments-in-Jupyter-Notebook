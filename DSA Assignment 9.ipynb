{
  "metadata": {
    "language_info": {
      "codemirror_mode": {
        "name": "python",
        "version": 3
      },
      "file_extension": ".py",
      "mimetype": "text/x-python",
      "name": "python",
      "nbconvert_exporter": "python",
      "pygments_lexer": "ipython3",
      "version": "3.8"
    },
    "kernelspec": {
      "name": "python",
      "display_name": "Python (Pyodide)",
      "language": "python"
    }
  },
  "nbformat_minor": 4,
  "nbformat": 4,
  "cells": [
    {
      "cell_type": "code",
      "source": "def isPowerOfTwo(n):\n    if n <= 0:\n        return False\n    return (n & (n - 1)) == 0\n\nprint(isPowerOfTwo(1))  \nprint(isPowerOfTwo(16))  \nprint(isPowerOfTwo(3))  \n",
      "metadata": {
        "trusted": true
      },
      "execution_count": 5,
      "outputs": [
        {
          "name": "stdout",
          "text": "True\nTrue\nFalse\n",
          "output_type": "stream"
        }
      ]
    },
    {
      "cell_type": "code",
      "source": "def sum_of_natural_numbers(n):\n    return (n / 2) * (1 + n)\n\nn = 3\nresult = sum_of_natural_numbers(n)\nprint(result)\n\nn = 5\nresult = sum_of_natural_numbers(n)\nprint(result)\n\n",
      "metadata": {
        "trusted": true
      },
      "execution_count": 4,
      "outputs": [
        {
          "name": "stdout",
          "text": "6.0\n15.0\n",
          "output_type": "stream"
        }
      ]
    },
    {
      "cell_type": "code",
      "source": "def factorial(N):\n    result = 1\n    for i in range(1, N + 1):\n        result *= i\n    return result\n\nN = 5\nresult = factorial(N)\nprint(result)\n\nN = 4\nresult = factorial(N)\nprint(result)\n\n",
      "metadata": {
        "trusted": true
      },
      "execution_count": 6,
      "outputs": [
        {
          "name": "stdout",
          "text": "120\n24\n",
          "output_type": "stream"
        }
      ]
    },
    {
      "cell_type": "code",
      "source": "def calculate_exponent(N, P):\n    result = N ** P\n    return result\n\nN = 5\nP = 2\nresult = calculate_exponent(N, P)\nprint(result)\n\nN = 2\nP = 5\nresult = calculate_exponent(N, P)\nprint(result)\n\n",
      "metadata": {
        "trusted": true
      },
      "execution_count": 7,
      "outputs": [
        {
          "name": "stdout",
          "text": "25\n32\n",
          "output_type": "stream"
        }
      ]
    },
    {
      "cell_type": "code",
      "source": "def find_maximum(arr, n):\n    # Base case: when there's only one element in the array\n    if n == 1:\n        return arr[0]\n    \n    # Recursive case: compare the current element with the maximum of the rest of the array\n    return max(arr[n-1], find_maximum(arr, n-1))\n\n\narr = [1, 4, 3, -5, -4, 8, 6]\nresult = find_maximum(arr, len(arr))\nprint(result)\n\narr = [1, 4, 45, 6, 10, -8]\nresult = find_maximum(arr, len(arr))\nprint(result)\n",
      "metadata": {
        "trusted": true
      },
      "execution_count": 9,
      "outputs": [
        {
          "name": "stdout",
          "text": "8\n45\n",
          "output_type": "stream"
        }
      ]
    },
    {
      "cell_type": "code",
      "source": "def find_nth_term(a, d, N):\n    nth_term = a + (N - 1) * d\n    return nth_term\n\n\na = 2\nd = 1\nN = 5\nresult = find_nth_term(a, d, N)\nprint(result)\n\na = 5\nd = 2\nN = 10\nresult = find_nth_term(a, d, N)\nprint(result)\n",
      "metadata": {},
      "execution_count": null,
      "outputs": []
    },
    {
      "cell_type": "code",
      "source": "def permute_string(s, l, r):\n    if l == r:\n        print(\"\".join(s))\n    else:\n        for i in range(l, r + 1):\n            s[l], s[i] = s[i], s[l]\n            permute_string(s, l + 1, r)\n            s[l], s[i] = s[i], s[l]  # backtrack\n\n# Example usage\nS = \"ABC\"\nn = len(S)\ns_list = list(S)\npermute_string(s_list, 0, n - 1)\n\nABC\nACB\nBAC\nBCA\nCBA\nCAB\n\nS = \"XY\"\nn = len(S)\ns_list = list(S)\npermute_string(s_list, 0, n - 1)\n",
      "metadata": {
        "trusted": true
      },
      "execution_count": 10,
      "outputs": [
        {
          "name": "stdout",
          "text": "ABC\nACB\nBAC\nBCA\nCBA\nCAB\n",
          "output_type": "stream"
        },
        {
          "ename": "<class 'NameError'>",
          "evalue": "name 'ABC' is not defined",
          "traceback": [
            "\u001b[0;31m---------------------------------------------------------------------------\u001b[0m",
            "\u001b[0;31mNameError\u001b[0m                                 Traceback (most recent call last)",
            "Cell \u001b[0;32mIn[10], line 16\u001b[0m\n\u001b[1;32m     13\u001b[0m s_list \u001b[38;5;241m=\u001b[39m \u001b[38;5;28mlist\u001b[39m(S)\n\u001b[1;32m     14\u001b[0m permute_string(s_list, \u001b[38;5;241m0\u001b[39m, n \u001b[38;5;241m-\u001b[39m \u001b[38;5;241m1\u001b[39m)\n\u001b[0;32m---> 16\u001b[0m \u001b[43mABC\u001b[49m\n\u001b[1;32m     17\u001b[0m ACB\n\u001b[1;32m     18\u001b[0m BAC\n",
            "\u001b[0;31mNameError\u001b[0m: name 'ABC' is not defined"
          ],
          "output_type": "error"
        }
      ]
    },
    {
      "cell_type": "code",
      "source": "",
      "metadata": {},
      "execution_count": null,
      "outputs": []
    }
  ]
}