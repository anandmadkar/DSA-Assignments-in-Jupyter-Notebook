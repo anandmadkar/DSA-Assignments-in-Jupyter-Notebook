{
  "metadata": {
    "language_info": {
      "codemirror_mode": {
        "name": "python",
        "version": 3
      },
      "file_extension": ".py",
      "mimetype": "text/x-python",
      "name": "python",
      "nbconvert_exporter": "python",
      "pygments_lexer": "ipython3",
      "version": "3.8"
    },
    "kernelspec": {
      "name": "python",
      "display_name": "Python (Pyodide)",
      "language": "python"
    }
  },
  "nbformat_minor": 4,
  "nbformat": 4,
  "cells": [
    {
      "cell_type": "code",
      "source": "class Node:\n    def __init__(self, data):\n        self.data = data\n        self.next = None\n\n\ndef create_new_linked_list(list1, list2):\n    result_head = None\n    result_tail = None\n\n    while list1 is not None and list2 is not None:\n        if list1.data >= list2.data:\n            new_node = Node(list1.data)\n            list1 = list1.next\n        else:\n            new_node = Node(list2.data)\n            list2 = list2.next\n\n        if result_head is None:\n            result_head = new_node\n            result_tail = new_node\n        else:\n            result_tail.next = new_node\n            result_tail = new_node\n\n    if list1 is not None:\n        if result_head is None:\n            result_head = list1\n        else:\n            result_tail.next = list1\n\n    if list2 is not None:\n        if result_head is None:\n            result_head = list2\n        else:\n            result_tail.next = list2\n\n    return result_head\n\n\n# Helper function to create a linked list\ndef create_linked_list(arr):\n    if len(arr) == 0:\n        return None\n\n    head = Node(arr[0])\n    current = head\n\n    for i in range(1, len(arr)):\n        node = Node(arr[i])\n        current.next = node\n        current = node\n\n    return head\n\n\n# Helper function to print the linked list\ndef print_linked_list(head):\n    current = head\n    while current is not None:\n        print(current.data, end=\" \")\n        current = current.next\n    print()\n\n\n# Example usage:\nlist1 = create_linked_list([5, 2, 3, 8])\nlist2 = create_linked_list([1, 7, 4, 5])\n\nnew_list = create_new_linked_list(list1, list2)\nprint_linked_list(new_list)\n\nlist3 = create_linked_list([2, 8, 9, 3])\nlist4 = create_linked_list([5, 3, 6, 4])\n\nnew_list2 = create_new_linked_list(list3, list4)\nprint_linked_list(new_list2)\n",
      "metadata": {
        "trusted": true
      },
      "execution_count": 1,
      "outputs": [
        {
          "name": "stdout",
          "text": "5 2 3 8 1 7 4 5 \n5 3 6 4 2 8 9 3 \n",
          "output_type": "stream"
        }
      ]
    },
    {
      "cell_type": "code",
      "source": "class Node:\n    def __init__(self, data):\n        self.data = data\n        self.next = None\n\n\ndef remove_duplicates(head):\n    if head is None:\n        return head\n\n    current = head\n\n    while current.next is not None:\n        if current.data == current.next.data:\n            current.next = current.next.next\n        else:\n            current = current.next\n\n    return head\n\n\n# Helper function to create a linked list\ndef create_linked_list(arr):\n    if len(arr) == 0:\n        return None\n\n    head = Node(arr[0])\n    current = head\n\n    for i in range(1, len(arr)):\n        node = Node(arr[i])\n        current.next = node\n        current = node\n\n    return head\n\n\n# Helper function to print the linked list\ndef print_linked_list(head):\n    current = head\n    while current is not None:\n        print(current.data, end=\" \")\n        current = current.next\n    print()\n\n\n# Example usage:\nlinked_list = create_linked_list([11, 11, 11, 21, 43, 43, 60])\n\nprint(\"Original Linked List:\")\nprint_linked_list(linked_list)\n\nupdated_list = remove_duplicates(linked_list)\n\nprint(\"Modified Linked List:\")\nprint_linked_list(updated_list)\n",
      "metadata": {},
      "execution_count": null,
      "outputs": []
    },
    {
      "cell_type": "code",
      "source": "class Node:\n    def __init__(self, data):\n        self.data = data\n        self.next = None\n\n\ndef remove_duplicates(head):\n    if head is None:\n        return head\n\n    current = head\n\n    while current.next is not None:\n        if current.data == current.next.data:\n            current.next = current.next.next\n        else:\n            current = current.next\n\n    return head\n\n\n# Helper function to create a linked list\ndef create_linked_list(arr):\n    if len(arr) == 0:\n        return None\n\n    head = Node(arr[0])\n    current = head\n\n    for i in range(1, len(arr)):\n        node = Node(arr[i])\n        current.next = node\n        current = node\n\n    return head\n\n\n# Helper function to print the linked list\ndef print_linked_list(head):\n    current = head\n    while current is not None:\n        print(current.data, end=\" \")\n        current = current.next\n    print()\n\n\n# Example usage:\nlinked_list = create_linked_list([10, 12, 12, 25, 25, 25, 34])\n\nprint(\"Original Linked List:\")\nprint_linked_list(linked_list)\n\nupdated_list = remove_duplicates(linked_list)\n\nprint(\"Modified Linked List:\")\nprint_linked_list(updated_list)\n",
      "metadata": {
        "trusted": true
      },
      "execution_count": 2,
      "outputs": [
        {
          "name": "stdout",
          "text": "Original Linked List:\n10 12 12 25 25 25 34 \nModified Linked List:\n10 12 25 34 \n",
          "output_type": "stream"
        }
      ]
    },
    {
      "cell_type": "code",
      "source": "class Node:\n    def __init__(self, data):\n        self.data = data\n        self.next = None\n\n\ndef reverse_k_nodes(head, k):\n    if head is None:\n        return None\n\n    prev = None\n    current = head\n    count = 0\n\n    while current is not None and count < k:\n        next_node = current.next\n        current.next = prev\n        prev = current\n        current = next_node\n        count += 1\n\n    if next_node is not None:\n        head.next = reverse_k_nodes(next_node, k)\n\n    return prev\n\n\ndef create_linked_list(arr):\n    if len(arr) == 0:\n        return None\n\n    head = Node(arr[0])\n    current = head\n\n    for i in range(1, len(arr)):\n        node = Node(arr[i])\n        current.next = node\n        current = node\n\n    return head\n\n\ndef print_linked_list(head):\n    current = head\n    while current is not None:\n        print(current.data, end=\" \")\n        current = current.next\n    print()\n\n\n# Example usage:\nlinked_list = create_linked_list([1, 2, 2, 4, 5, 6, 7, 8])\nk = 4\n\nprint(\"Original Linked List:\")\nprint_linked_list(linked_list)\n\nupdated_list = reverse_k_nodes(linked_list, k)\n\nprint(\"Modified Linked List:\")\nprint_linked_list(updated_list)\n",
      "metadata": {
        "trusted": true
      },
      "execution_count": 3,
      "outputs": [
        {
          "name": "stdout",
          "text": "Original Linked List:\n1 2 2 4 5 6 7 8 \nModified Linked List:\n4 2 2 1 8 7 6 5 \n",
          "output_type": "stream"
        }
      ]
    },
    {
      "cell_type": "code",
      "source": "class Node:\n    def __init__(self, data):\n        self.data = data\n        self.next = None\n\n\ndef reverse_alternate_k_nodes(head, k):\n    if head is None:\n        return None\n\n    prev = None\n    current = head\n    count = 0\n\n    # Reverse alternate k nodes\n    while current is not None and count < k:\n        next_node = current.next\n        current.next = prev\n        prev = current\n        current = next_node\n        count += 1\n\n    # Recursive call on remaining linked list\n    if current is not None:\n        head.next = reverse_alternate_k_nodes(current, k)\n\n    return prev\n\n\ndef create_linked_list(arr):\n    if len(arr) == 0:\n        return None\n\n    head = Node(arr[0])\n    current = head\n\n    for i in range(1, len(arr)):\n        node = Node(arr[i])\n        current.next = node\n        current = node\n\n    return head\n\n\ndef print_linked_list(head):\n    current = head\n    while current is not None:\n        print(current.data, end=\" \")\n        current = current.next\n    print()\n\n\n# Example usage:\nlinked_list = create_linked_list([1, 2, 3, 4, 5, 6, 7, 8, 9])\nk = 3\n\nprint(\"Original Linked List:\")\nprint_linked_list(linked_list)\n\nupdated_list = reverse_alternate_k_nodes(linked_list, k)\n\nprint(\"Modified Linked List:\")\nprint_linked_list(updated_list)\n",
      "metadata": {
        "trusted": true
      },
      "execution_count": 4,
      "outputs": [
        {
          "name": "stdout",
          "text": "Original Linked List:\n1 2 3 4 5 6 7 8 9 \nModified Linked List:\n3 2 1 6 5 4 9 8 7 \n",
          "output_type": "stream"
        }
      ]
    },
    {
      "cell_type": "code",
      "source": "class Node:\n    def __init__(self, data):\n        self.data = data\n        self.next = None\n\n\ndef merge_sorted_lists(a, b):\n    # Create a dummy node as the head of the merged list\n    dummy = Node(0)\n    prev = dummy\n\n    # Traverse both lists until one of them reaches the end\n    while a is not None and b is not None:\n        if a.data <= b.data:\n            prev.next = a\n            a = a.next\n        else:\n            prev.next = b\n            b = b.next\n        prev = prev.next\n\n    # Append the remaining nodes of the non-empty list\n    if a is not None:\n        prev.next = a\n    else:\n        prev.next = b\n\n    # Return the head of the merged list\n    return dummy.next\n\n\ndef create_linked_list(arr):\n    if len(arr) == 0:\n        return None\n\n    head = Node(arr[0])\n    current = head\n\n    for i in range(1, len(arr)):\n        node = Node(arr[i])\n        current.next = node\n        current = node\n\n    return head\n\n\ndef print_linked_list(head):\n    current = head\n    while current is not None:\n        print(current.data, end=\" \")\n        current = current.next\n    print()\n\n\n# Example usage:\na = create_linked_list([5, 10, 15])\nb = create_linked_list([2, 3, 20])\n\nprint(\"List A:\")\nprint_linked_list(a)\nprint(\"List B:\")\nprint_linked_list(b)\n\nmerged_list = merge_sorted_lists(a, b)\n\nprint(\"Merged List:\")\nprint_linked_list(merged_list)\n",
      "metadata": {
        "trusted": true
      },
      "execution_count": 5,
      "outputs": [
        {
          "name": "stdout",
          "text": "List A:\n5 10 15 \nList B:\n2 3 20 \nMerged List:\n2 3 5 10 15 20 \n",
          "output_type": "stream"
        }
      ]
    },
    {
      "cell_type": "code",
      "source": "class Node:\n    def __init__(self, data):\n        self.data = data\n        self.next = None\n\n\ndef merge_sorted_lists(a, b):\n    # Create a dummy node as the head of the merged list\n    dummy = Node(0)\n    prev = dummy\n\n    # Traverse both lists until one of them reaches the end\n    while a is not None and b is not None:\n        if a.data <= b.data:\n            prev.next = a\n            a = a.next\n        else:\n            prev.next = b\n            b = b.next\n        prev = prev.next\n\n    # Append the remaining nodes of the non-empty list\n    if a is not None:\n        prev.next = a\n    else:\n        prev.next = b\n\n    # Return the head of the merged list\n    return dummy.next\n\n\ndef create_linked_list(arr):\n    if len(arr) == 0:\n        return None\n\n    head = Node(arr[0])\n    current = head\n\n    for i in range(1, len(arr)):\n        node = Node(arr[i])\n        current.next = node\n        current = node\n\n    return head\n\n\ndef print_linked_list(head):\n    current = head\n    while current is not None:\n        print(current.data, end=\" \")\n        current = current.next\n    print()\n\n\n# Example usage:\na = create_linked_list([1, 1])\nb = create_linked_list([2, 4])\n\nprint(\"List A:\")\nprint_linked_list(a)\nprint(\"List B:\")\nprint_linked_list(b)\n\nmerged_list = merge_sorted_lists(a, b)\n\nprint(\"Merged List:\")\nprint_linked_list(merged_list)\n",
      "metadata": {
        "trusted": true
      },
      "execution_count": 6,
      "outputs": [
        {
          "name": "stdout",
          "text": "List A:\n1 1 \nList B:\n2 4 \nMerged List:\n1 1 2 4 \n",
          "output_type": "stream"
        }
      ]
    },
    {
      "cell_type": "code",
      "source": "class Node:\n    def __init__(self, data):\n        self.data = data\n        self.prev = None\n        self.next = None\n\n\ndef reverse_doubly_linked_list(head):\n    current = head\n    prev = None\n\n    while current is not None:\n        next_node = current.next\n        current.next = prev\n        current.prev = next_node\n        prev = current\n        current = next_node\n\n    return prev\n\n\ndef create_doubly_linked_list(arr):\n    if len(arr) == 0:\n        return None\n\n    head = Node(arr[0])\n    current = head\n\n    for i in range(1, len(arr)):\n        node = Node(arr[i])\n        node.prev = current\n        current.next = node\n        current = node\n\n    return head\n\n\ndef print_doubly_linked_list(head):\n    current = head\n    while current is not None:\n        print(current.data, end=\" \")\n        current = current.next\n    print()\n\n\narr = [10, 8, 4, 2]\nhead = create_doubly_linked_list(arr)\n\nprint(\"Original Doubly Linked List:\")\nprint_doubly_linked_list(head)\n\nreversed_head = reverse_doubly_linked_list(head)\n\nprint(\"Reversed Doubly Linked List:\")\nprint_doubly_linked_list(reversed_head)\n",
      "metadata": {
        "trusted": true
      },
      "execution_count": 7,
      "outputs": [
        {
          "name": "stdout",
          "text": "Original Doubly Linked List:\n10 8 4 2 \nReversed Doubly Linked List:\n2 4 8 10 \n",
          "output_type": "stream"
        }
      ]
    },
    {
      "cell_type": "code",
      "source": "class Node:\n    def __init__(self, data):\n        self.data = data\n        self.prev = None\n        self.next = None\n\n\ndef delete_node_at_position(head, position):\n    if head is None:\n        return None\n\n    # If position is 1, update the head\n    if position == 1:\n        head = head.next\n        if head is not None:\n            head.prev = None\n        return head\n\n    current = head\n    count = 1\n\n    # Traverse to the node at the given position\n    while current is not None and count < position:\n        current = current.next\n        count += 1\n\n    # If position is invalid\n    if current is None:\n        return head\n\n    # Update previous node's next pointer\n    current.prev.next = current.next\n\n    # If current node is not the last node\n    if current.next is not None:\n        current.next.prev = current.prev\n\n    return head\n\n\ndef create_doubly_linked_list(arr):\n    if len(arr) == 0:\n        return None\n\n    head = Node(arr[0])\n    current = head\n\n    for i in range(1, len(arr)):\n        node = Node(arr[i])\n        node.prev = current\n        current.next = node\n        current = node\n\n    return head\n\n\ndef print_doubly_linked_list(head):\n    current = head\n    while current is not None:\n        print(current.data, end=\" \")\n        current = current.next\n    print()\n\n\n# Example usage:\narr = [1, 3, 4]\nhead = create_doubly_linked_list(arr)\n\nprint(\"Original Doubly Linked List:\")\nprint_doubly_linked_list(head)\n\nposition = 3\nhead = delete_node_at_position(head, position)\n\nprint(\"Modified Doubly Linked List:\")\nprint_doubly_linked_list(head)\n",
      "metadata": {
        "trusted": true
      },
      "execution_count": 8,
      "outputs": [
        {
          "name": "stdout",
          "text": "Original Doubly Linked List:\n1 3 4 \nModified Doubly Linked List:\n1 3 \n",
          "output_type": "stream"
        }
      ]
    },
    {
      "cell_type": "code",
      "source": "class Node:\n    def __init__(self, data):\n        self.data = data\n        self.prev = None\n        self.next = None\n\n\ndef delete_node_at_position(head, position):\n    if head is None:\n        return None\n\n    # If position is 1, update the head\n    if position == 1:\n        head = head.next\n        if head is not None:\n            head.prev = None\n        return head\n\n    current = head\n    count = 1\n\n    # Traverse to the node at the given position\n    while current is not None and count < position:\n        current = current.next\n        count += 1\n\n    # If position is invalid\n    if current is None:\n        return head\n\n    # Update previous node's next pointer\n    current.prev.next = current.next\n\n    # If current node is not the last node\n    if current.next is not None:\n        current.next.prev = current.prev\n\n    return head\n\n\ndef create_doubly_linked_list(arr):\n    if len(arr) == 0:\n        return None\n\n    head = Node(arr[0])\n    current = head\n\n    for i in range(1, len(arr)):\n        node = Node(arr[i])\n        node.prev = current\n        current.next = node\n        current = node\n\n    return head\n\n\ndef print_doubly_linked_list(head):\n    current = head\n    while current is not None:\n        print(current.data, end=\" \")\n        current = current.next\n    print()\n\narr = [1, 5, 2, 9]\nhead = create_doubly_linked_list(arr)\n\nprint(\"Original Doubly Linked List:\")\nprint_doubly_linked_list(head)\n\nposition = 1\nhead = delete_node_at_position(head, position)\n\nprint(\"Modified Doubly Linked List:\")\nprint_doubly_linked_list(head)\n",
      "metadata": {
        "trusted": true
      },
      "execution_count": 9,
      "outputs": [
        {
          "name": "stdout",
          "text": "Original Doubly Linked List:\n1 5 2 9 \nModified Doubly Linked List:\n5 2 9 \n",
          "output_type": "stream"
        }
      ]
    },
    {
      "cell_type": "code",
      "source": "",
      "metadata": {},
      "execution_count": null,
      "outputs": []
    }
  ]
}