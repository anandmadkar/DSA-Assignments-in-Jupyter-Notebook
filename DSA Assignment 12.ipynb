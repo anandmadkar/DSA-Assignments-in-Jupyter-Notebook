{
  "metadata": {
    "language_info": {
      "codemirror_mode": {
        "name": "python",
        "version": 3
      },
      "file_extension": ".py",
      "mimetype": "text/x-python",
      "name": "python",
      "nbconvert_exporter": "python",
      "pygments_lexer": "ipython3",
      "version": "3.8"
    },
    "kernelspec": {
      "name": "python",
      "display_name": "Python (Pyodide)",
      "language": "python"
    }
  },
  "nbformat_minor": 4,
  "nbformat": 4,
  "cells": [
    {
      "cell_type": "code",
      "source": "class Node:\n    def __init__(self, data):\n        self.data = data\n        self.next = None\n\n\ndef delete_middle_node(head):\n    if head is None or head.next is None:\n        return None\n\n    slow_ptr = head\n    fast_ptr = head\n    prev_ptr = None\n\n    while fast_ptr is not None and fast_ptr.next is not None:\n        fast_ptr = fast_ptr.next.next\n        prev_ptr = slow_ptr\n        slow_ptr = slow_ptr.next\n\n    prev_ptr.next = slow_ptr.next\n    slow_ptr = None\n\n    return head\n\n\n# Helper function to print the linked list\ndef print_linked_list(head):\n    if head is None:\n        print(\"Linked list is empty.\")\n        return\n\n    current = head\n    while current is not None:\n        print(current.data, end=\" \")\n        current = current.next\n    print()\n\n\n# Example usage:\n# Create the linked list\nhead = Node(1)\nhead.next = Node(2)\nhead.next.next = Node(3)\nhead.next.next.next = Node(4)\nhead.next.next.next.next = Node(5)\n\nprint(\"Input:\")\nprint_linked_list(head)\n\nhead = delete_middle_node(head)\n\nprint(\"Output:\")\nprint_linked_list(head)\n\n\n",
      "metadata": {
        "trusted": true
      },
      "execution_count": 3,
      "outputs": [
        {
          "name": "stdout",
          "text": "Input:\n1 2 3 4 5 \nOutput:\n1 2 4 5 \n",
          "output_type": "stream"
        }
      ]
    },
    {
      "cell_type": "code",
      "source": "class Node:\n    def __init__(self, data):\n        self.data = data\n        self.next = None\n\n\ndef detect_loop(head):\n    slow_ptr = head\n    fast_ptr = head\n\n    while fast_ptr is not None and fast_ptr.next is not None:\n        slow_ptr = slow_ptr.next\n        fast_ptr = fast_ptr.next.next\n\n        if slow_ptr == fast_ptr:\n            return True\n\n    return False\n\n\n# Helper function to create a linked list\ndef create_linked_list(arr):\n    if len(arr) == 0:\n        return None\n\n    head = Node(arr[0])\n    current = head\n\n    for i in range(1, len(arr)):\n        node = Node(arr[i])\n        current.next = node\n        current = node\n\n    return head\n\n\ndef create_linked_list_with_loop(arr, x):\n    if len(arr) == 0:\n        return None\n\n    head = Node(arr[0])\n    current = head\n    loop_node = None\n\n    for i in range(1, len(arr)):\n        node = Node(arr[i])\n        current.next = node\n        current = node\n\n        if i == x:\n            loop_node = node\n\n    current.next = loop_node\n\n    return head\n\n\narr = [1, 3, 4]\nx = 2\nhead = create_linked_list_with_loop(arr, x)\nhas_loop = detect_loop(head)\nprint(has_loop)\n\n\narr = [1, 8, 3, 4]\nhead = create_linked_list(arr)\nhas_loop = detect_loop(head)\nprint(has_loop)\n",
      "metadata": {
        "trusted": true
      },
      "execution_count": 7,
      "outputs": [
        {
          "name": "stdout",
          "text": "True\nFalse\n",
          "output_type": "stream"
        }
      ]
    },
    {
      "cell_type": "code",
      "source": "class Node:\n    def __init__(self, data):\n        self.data = data\n        self.next = None\n\n\ndef is_palindrome(head):\n    if head is None or head.next is None:\n        return True\n\n    slow_ptr = head\n    fast_ptr = head\n\n    # Find the middle of the linked list\n    while fast_ptr is not None and fast_ptr.next is not None:\n        slow_ptr = slow_ptr.next\n        fast_ptr = fast_ptr.next.next\n\n    # Reverse the second half of the linked list\n    prev = None\n    current = slow_ptr\n    while current is not None:\n        next_node = current.next\n        current.next = prev\n        prev = current\n        current = next_node\n\n    # Compare the reversed second half with the first half\n    second_half = prev\n    first_half = head\n    while second_half is not None:\n        if first_half.data != second_half.data:\n            return False\n        first_half = first_half.next\n        second_half = second_half.next\n\n    return True\n\n\n# Helper function to create a linked list from a string\ndef create_linked_list(string):\n    if len(string) == 0:\n        return None\n\n    head = Node(string[0])\n    current = head\n\n    for i in range(1, len(string)):\n        node = Node(string[i])\n        current.next = node\n        current = node\n\n    return head\n\n\nstring1 = \"RADAR\"\nhead1 = create_linked_list(string1)\nprint(is_palindrome(head1))  # Output: True\n\nstring2 = \"CODE\"\nhead2 = create_linked_list(string2)\nprint(is_palindrome(head2))  # Output: False\n",
      "metadata": {
        "trusted": true
      },
      "execution_count": 8,
      "outputs": [
        {
          "name": "stdout",
          "text": "True\nFalse\n",
          "output_type": "stream"
        }
      ]
    },
    {
      "cell_type": "code",
      "source": "class Node:\n    def __init__(self, data):\n        self.data = data\n        self.next = None\n\n\ndef detect_loop(head):\n    slow_ptr = head\n    fast_ptr = head\n\n    while fast_ptr is not None and fast_ptr.next is not None:\n        slow_ptr = slow_ptr.next\n        fast_ptr = fast_ptr.next.next\n\n        if slow_ptr == fast_ptr:\n            return slow_ptr\n\n    return None\n\n\ndef remove_loop(head, loop_node):\n    ptr1 = head\n    ptr2 = loop_node\n\n    # Find the start of the loop\n    while ptr1.next != ptr2.next:\n        ptr1 = ptr1.next\n        ptr2 = ptr2.next\n\n    # Set the next pointer of the node that forms the loop to None\n    ptr2.next = None\n\n\ndef remove_loop_from_linked_list(head):\n    loop_node = detect_loop(head)\n\n    if loop_node is None:\n        return head\n\n    # Case when the loop starts at the head of the list\n    if head == loop_node:\n        ptr = head\n        while ptr.next != head:\n            ptr = ptr.next\n\n        ptr.next = None\n        return head\n\n    remove_loop(head, loop_node)\n    return head\n\n\n# Helper function to create a linked list with a loop\ndef create_linked_list_with_loop(arr, x):\n    if len(arr) == 0:\n        return None\n\n    head = Node(arr[0])\n    current = head\n    loop_node = None\n\n    for i in range(1, len(arr)):\n        node = Node(arr[i])\n        current.next = node\n        current = node\n\n        if i == x:\n            loop_node = node\n\n    current.next = loop_node\n\n    return head\n\n\n# Helper function to create a linked list\ndef create_linked_list(arr):\n    if len(arr) == 0:\n        return None\n\n    head = Node(arr[0])\n    current = head\n\n    for i in range(1, len(arr)):\n        node = Node(arr[i])\n        current.next = node\n        current = node\n\n    return head\n\n\n\narr1 = [1, 8, 3, 4]\nx1 = 0\nhead1 = create_linked_list(arr1)\nhead1 = remove_loop_from_linked_list(head1)\nwhile head1 is not None:\n    print(head1.data, end=\" \")\n    head1 = head1.next\nprint()\n\n\narr2 = [1, 2, 3, 4]\nx2 = 1\nhead2 = create_linked_list_with_loop(arr2, x2)\nhead2 = remove_loop_from_linked_list(head2)\nwhile head2 is not None:\n    print(head2.data, end=\" \")\n    head2 = head2.next\n\n",
      "metadata": {
        "trusted": true
      },
      "execution_count": 10,
      "outputs": [
        {
          "name": "stdout",
          "text": "1 8 3 4 \n1 2 3 4 ",
          "output_type": "stream"
        }
      ]
    },
    {
      "cell_type": "code",
      "source": "class Node:\n    def __init__(self, data):\n        self.data = data\n        self.next = None\n\n\ndef retain_delete(head, M, N):\n    if M == 0:\n        return None\n\n    current = head\n\n    while current is not None:\n        for _ in range(M - 1):\n            if current is None:\n                break\n            current = current.next\n\n        if current is None:\n            break\n\n        temp = current.next\n\n        for _ in range(N):\n            if temp is None:\n                break\n            temp = temp.next\n\n        current.next = temp\n        current = temp\n\n    return head\n\n\n# Helper function to create a linked list\ndef create_linked_list(arr):\n    if len(arr) == 0:\n        return None\n\n    head = Node(arr[0])\n    current = head\n\n    for i in range(1, len(arr)):\n        node = Node(arr[i])\n        current.next = node\n        current = node\n\n    return head\n\n\n# Helper function to print the linked list\ndef print_linked_list(head):\n    current = head\n    while current is not None:\n        print(current.data, end=\" \")\n        current = current.next\n    print()\n\n\n# Example usage:\narr1 = [1, 2, 3, 4, 5, 6, 7, 8]\nM1 = 2\nN1 = 2\nhead1 = create_linked_list(arr1)\nhead1 = retain_delete(head1, M1, N1)\nprint_linked_list(head1)\n\n\narr2 = [1, 2, 3, 4, 5, 6, 7, 8, 9, 10]\nM2 = 3\nN2 = 2\nhead2 = create_linked_list(arr2)\nhead2 = retain_delete(head2, M2, N2)\nprint_linked_list(head2)\n\n\narr3 = [1, 2, 3, 4, 5, 6, 7, 8, 9, 10]\nM3 = 1\nN3 = 1\nhead3 = create_linked_list(arr3)\nhead3 = retain_delete(head3, M3, N3)\nprint_linked_list(head3)\n\n",
      "metadata": {
        "trusted": true
      },
      "execution_count": 11,
      "outputs": [
        {
          "name": "stdout",
          "text": "1 2 5 6 \n1 2 3 6 7 8 \n1 3 5 7 9 \n",
          "output_type": "stream"
        }
      ]
    },
    {
      "cell_type": "code",
      "source": "class Node:\n    def __init__(self, data):\n        self.data = data\n        self.next = None\n\n\ndef insert_alternate(head1, head2):\n    if head1 is None:\n        return head2\n\n    first = head1\n    second = head2\n\n    while first is not None and second is not None:\n        first_next = first.next\n        second_next = second.next\n\n        second.next = first_next\n        first.next = second\n\n        first = first_next\n        second = second_next\n\n    if second is not None:\n        first.next = second\n\n    return head1\n\n\n# Helper function to create a linked list\ndef create_linked_list(arr):\n    if len(arr) == 0:\n        return None\n\n    head = Node(arr[0])\n    current = head\n\n    for i in range(1, len(arr)):\n        node = Node(arr[i])\n        current.next = node\n        current = node\n\n    return head\n\n\n# Helper function to print the linked list\ndef print_linked_list(head):\n    current = head\n    while current is not None:\n        print(current.data, end=\" \")\n        current = current.next\n    print()\n\n\n\narr1 = [5, 7, 17, 13, 11]\narr2 = [12, 10, 2, 4, 6]\nhead1 = create_linked_list(arr1)\nhead2 = create_linked_list(arr2)\n\nhead1 = insert_alternate(head1, head2)\n\nprint_linked_list(head1)\n\n\nprint_linked_list(head2)\n\n\narr3 = [1, 2, 3]\narr4 = [4, 5, 6, 7, 8]\nhead3 = create_linked_list(arr3)\nhead4 = create_linked_list(arr4)\n\nhead3 = insert_alternate(head3, head4)\n\nprint_linked_list(head3)\n\n\nprint_linked_list(head4)\n\n",
      "metadata": {
        "trusted": true
      },
      "execution_count": 12,
      "outputs": [
        {
          "name": "stdout",
          "text": "5 12 7 10 17 2 13 4 11 6 \n12 7 10 17 2 13 4 11 6 \n",
          "output_type": "stream"
        },
        {
          "ename": "<class 'AttributeError'>",
          "evalue": "'NoneType' object has no attribute 'next'",
          "traceback": [
            "\u001b[0;31m---------------------------------------------------------------------------\u001b[0m",
            "\u001b[0;31mAttributeError\u001b[0m                            Traceback (most recent call last)",
            "Cell \u001b[0;32mIn[12], line 74\u001b[0m\n\u001b[1;32m     71\u001b[0m head3 \u001b[38;5;241m=\u001b[39m create_linked_list(arr3)\n\u001b[1;32m     72\u001b[0m head4 \u001b[38;5;241m=\u001b[39m create_linked_list(arr4)\n\u001b[0;32m---> 74\u001b[0m head3 \u001b[38;5;241m=\u001b[39m \u001b[43minsert_alternate\u001b[49m\u001b[43m(\u001b[49m\u001b[43mhead3\u001b[49m\u001b[43m,\u001b[49m\u001b[43m \u001b[49m\u001b[43mhead4\u001b[49m\u001b[43m)\u001b[49m\n\u001b[1;32m     76\u001b[0m print_linked_list(head3)\n\u001b[1;32m     79\u001b[0m print_linked_list(head4)\n",
            "Cell \u001b[0;32mIn[12], line 25\u001b[0m, in \u001b[0;36minsert_alternate\u001b[0;34m(head1, head2)\u001b[0m\n\u001b[1;32m     22\u001b[0m     second \u001b[38;5;241m=\u001b[39m second_next\n\u001b[1;32m     24\u001b[0m \u001b[38;5;28;01mif\u001b[39;00m second \u001b[38;5;129;01mis\u001b[39;00m \u001b[38;5;129;01mnot\u001b[39;00m \u001b[38;5;28;01mNone\u001b[39;00m:\n\u001b[0;32m---> 25\u001b[0m     \u001b[43mfirst\u001b[49m\u001b[38;5;241;43m.\u001b[39;49m\u001b[43mnext\u001b[49m \u001b[38;5;241m=\u001b[39m second\n\u001b[1;32m     27\u001b[0m \u001b[38;5;28;01mreturn\u001b[39;00m head1\n",
            "\u001b[0;31mAttributeError\u001b[0m: 'NoneType' object has no attribute 'next'"
          ],
          "output_type": "error"
        }
      ]
    },
    {
      "cell_type": "code",
      "source": "class Node:\n    def __init__(self, data):\n        self.data = data\n        self.next = None\n\n\ndef is_circular(head):\n    if head is None:\n        return False\n\n    slow = head\n    fast = head\n\n    while fast is not None and fast.next is not None:\n        slow = slow.next\n        fast = fast.next.next\n\n        if slow == fast:\n            return True\n\n    return False\n\n\n# Example usage:\n# Creating a circular linked list\nhead = Node(1)\nnode2 = Node(2)\nnode3 = Node(3)\nnode4 = Node(4)\nnode5 = Node(5)\n\nhead.next = node2\nnode2.next = node3\nnode3.next = node4\nnode4.next = node5\nnode5.next = head  # The last node is connected to the head, forming a cycle\n\nprint(is_circular(head))\n\n\n# Creating a non-circular linked list\nhead2 = Node(1)\nnode2 = Node(2)\nnode3 = Node(3)\nnode4 = Node(4)\nnode5 = Node(5)\n\nhead2.next = node2\nnode2.next = node3\nnode3.next = node4\nnode4.next = node5\n\nprint(is_circular(head2))\n\n",
      "metadata": {
        "trusted": true
      },
      "execution_count": 13,
      "outputs": [
        {
          "name": "stdout",
          "text": "True\nFalse\n",
          "output_type": "stream"
        }
      ]
    },
    {
      "cell_type": "code",
      "source": "",
      "metadata": {},
      "execution_count": null,
      "outputs": []
    }
  ]
}