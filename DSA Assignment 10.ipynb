{
  "metadata": {
    "language_info": {
      "codemirror_mode": {
        "name": "python",
        "version": 3
      },
      "file_extension": ".py",
      "mimetype": "text/x-python",
      "name": "python",
      "nbconvert_exporter": "python",
      "pygments_lexer": "ipython3",
      "version": "3.8"
    },
    "kernelspec": {
      "name": "python",
      "display_name": "Python (Pyodide)",
      "language": "python"
    }
  },
  "nbformat_minor": 4,
  "nbformat": 4,
  "cells": [
    {
      "cell_type": "code",
      "source": "def isPowerOfThree(n):\n    if n <= 0:\n        return False\n    while n % 3 == 0:\n        n /= 3\n    return n == 1\n\nprint(isPowerOfThree(27))  \nprint(isPowerOfThree(0))   \nprint(isPowerOfThree(-1))  \n\n",
      "metadata": {
        "trusted": true
      },
      "execution_count": 1,
      "outputs": [
        {
          "name": "stdout",
          "text": "True\nFalse\nFalse\n",
          "output_type": "stream"
        }
      ]
    },
    {
      "cell_type": "code",
      "source": "def lastRemaining(n):\n    left_to_right = True\n    remaining = n\n    step = 1\n    head = 1\n\n    while remaining > 1:\n        if left_to_right or remaining % 2 == 1:\n            head += step\n        remaining //= 2\n        step *= 2\n        left_to_right = not left_to_right\n\n    return head\n\n   print(lastRemaining(9))  \nprint(lastRemaining(1))  \n",
      "metadata": {
        "trusted": true
      },
      "execution_count": null,
      "outputs": []
    },
    {
      "cell_type": "code",
      "source": "def generateSubsets(s):\n    subsets = []\n    generateSubsetsRecursive(s, \"\", 0, subsets)\n    return subsets\n\ndef generateSubsetsRecursive(s, current_subset, index, subsets):\n    if index == len(s):\n        subsets.append(current_subset)\n        return\n\n    generateSubsetsRecursive(s, current_subset, index + 1, subsets)  # Exclude the current character\n\n    generateSubsetsRecursive(s, current_subset + s[index], index + 1, subsets)  # Include the current character\n\n\nprint(generateSubsets(\"abc\"))\nprint(generateSubsets(\"abcd\"))\n\n",
      "metadata": {
        "trusted": true
      },
      "execution_count": 3,
      "outputs": [
        {
          "name": "stdout",
          "text": "['', 'c', 'b', 'bc', 'a', 'ac', 'ab', 'abc']\n['', 'd', 'c', 'cd', 'b', 'bd', 'bc', 'bcd', 'a', 'ad', 'ac', 'acd', 'ab', 'abd', 'abc', 'abcd']\n",
          "output_type": "stream"
        }
      ]
    },
    {
      "cell_type": "code",
      "source": "def calculateLength(string):\n    if string == \"\":\n        return 0\n    else:\n        return 1 + calculateLength(string[1:])\n\nprint(calculateLength(\"abcd\"))  \nprint(calculateLength(\"GEEKSFORGEEKS\"))  \n",
      "metadata": {
        "trusted": true
      },
      "execution_count": 4,
      "outputs": [
        {
          "name": "stdout",
          "text": "4\n13\n",
          "output_type": "stream"
        }
      ]
    },
    {
      "cell_type": "code",
      "source": "def countSubstrings(S):\n    count = 0\n    for i in range(len(S)):\n        for j in range(i, len(S)):\n            if S[i] == S[j]:\n                count += 1\n    return count\n\nprint(countSubstrings(\"abcab\"))  \nprint(countSubstrings(\"aba\"))   \n",
      "metadata": {
        "trusted": true
      },
      "execution_count": 5,
      "outputs": [
        {
          "name": "stdout",
          "text": "7\n4\n",
          "output_type": "stream"
        }
      ]
    },
    {
      "cell_type": "code",
      "source": "def towerOfHanoi(n, source, destination, auxiliary):\n    if n == 1:\n        print(\"Move disk 1 from\", source, \"to\", destination)\n        return 1\n    else:\n        moves = 0\n        moves += towerOfHanoi(n-1, source, auxiliary, destination)\n        print(\"Move disk\", n, \"from\", source, \"to\", destination)\n        moves += 1\n        moves += towerOfHanoi(n-1, auxiliary, destination, source)\n        return moves\n\nn = 3\ntotal_moves = towerOfHanoi(n, 'A', 'C', 'B')\nprint(\"Total moves:\", total_moves)\n",
      "metadata": {
        "trusted": true
      },
      "execution_count": 6,
      "outputs": [
        {
          "name": "stdout",
          "text": "Move disk 1 from A to C\nMove disk 2 from A to B\nMove disk 1 from C to B\nMove disk 3 from A to C\nMove disk 1 from B to A\nMove disk 2 from B to C\nMove disk 1 from A to C\nTotal moves: 7\n",
          "output_type": "stream"
        }
      ]
    },
    {
      "cell_type": "code",
      "source": "def towerOfHanoi(n, source, destination, auxiliary):\n    if n == 1:\n        print(\"move disk\", n, \"from rod\", source, \"to rod\", destination)\n        return 1\n    else:\n        moves = 0\n        moves += towerOfHanoi(n-1, source, auxiliary, destination)\n        print(\"move disk\", n, \"from rod\", source, \"to rod\", destination)\n        moves += 1\n        moves += towerOfHanoi(n-1, auxiliary, destination, source)\n        return moves\n\n# Example usage\nn = 3\ntotal_moves = towerOfHanoi(n, 1, 3, 2)\nprint(total_moves)\n\n\n",
      "metadata": {
        "trusted": true
      },
      "execution_count": 7,
      "outputs": [
        {
          "name": "stdout",
          "text": "move disk 1 from rod 1 to rod 3\nmove disk 2 from rod 1 to rod 2\nmove disk 1 from rod 3 to rod 2\nmove disk 3 from rod 1 to rod 3\nmove disk 1 from rod 2 to rod 1\nmove disk 2 from rod 2 to rod 3\nmove disk 1 from rod 1 to rod 3\n7\n",
          "output_type": "stream"
        }
      ]
    },
    {
      "cell_type": "code",
      "source": "def permuteString(str):\n    permutations = []\n    permute(str, \"\", permutations)\n    return permutations\n\ndef permute(str, prefix, permutations):\n    if len(str) == 0:\n        permutations.append(prefix)\n    else:\n        for i in range(len(str)):\n            rem = str[0:i] + str[i+1:]\n            permute(rem, prefix + str[i], permutations)\n\n\n# Example usage\nprint(permuteString(\"cd\"))   \nprint(permuteString(\"abb\")) \n\n\n",
      "metadata": {
        "trusted": true
      },
      "execution_count": 8,
      "outputs": [
        {
          "name": "stdout",
          "text": "['cd', 'dc']\n['abb', 'abb', 'bab', 'bba', 'bab', 'bba']\n",
          "output_type": "stream"
        }
      ]
    },
    {
      "cell_type": "code",
      "source": "def countConsonants(string):\n    consonants = 0\n    vowels = ['a', 'e', 'i', 'o', 'u']\n    for char in string:\n        if char.isalpha() and char.lower() not in vowels:\n            consonants += 1\n    return consonants\n\nprint(countConsonants(\"abc de\"))                \nprint(countConsonants(\"geeksforgeeks portal\"))   \n",
      "metadata": {
        "trusted": true
      },
      "execution_count": 9,
      "outputs": [
        {
          "name": "stdout",
          "text": "3\n12\n",
          "output_type": "stream"
        }
      ]
    },
    {
      "cell_type": "code",
      "source": "",
      "metadata": {},
      "execution_count": null,
      "outputs": []
    }
  ]
}