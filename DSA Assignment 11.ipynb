{
  "metadata": {
    "language_info": {
      "codemirror_mode": {
        "name": "python",
        "version": 3
      },
      "file_extension": ".py",
      "mimetype": "text/x-python",
      "name": "python",
      "nbconvert_exporter": "python",
      "pygments_lexer": "ipython3",
      "version": "3.8"
    },
    "kernelspec": {
      "name": "python",
      "display_name": "Python (Pyodide)",
      "language": "python"
    }
  },
  "nbformat_minor": 4,
  "nbformat": 4,
  "cells": [
    {
      "cell_type": "code",
      "source": "def mySqrt(x):\n    if x == 0 or x == 1:\n        return x\n    \n    left = 0\n    right = x\n    \n    while left <= right:\n        mid = (left + right) // 2\n        mid_squared = mid * mid\n        \n        if mid_squared == x:\n            return mid\n        elif mid_squared < x:\n            left = mid + 1\n        else:\n            right = mid - 1\n    \n    return right\n\nx = 4\nresult = mySqrt(x)\nprint(result)\n\n",
      "metadata": {
        "trusted": true
      },
      "execution_count": 2,
      "outputs": [
        {
          "name": "stdout",
          "text": "2\n",
          "output_type": "stream"
        }
      ]
    },
    {
      "cell_type": "code",
      "source": "def findPeakElement(nums):\n    left = 0\n    right = len(nums) - 1\n    \n    while left < right:\n        mid = (left + right) // 2\n        \n        if nums[mid] < nums[mid + 1]:\n            left = mid + 1\n        else:\n            right = mid\n    \n    return left\n\nnums = [1, 2, 3, 1]\nresult = findPeakElement(nums)\nprint(result)\n\nnums = [1, 2, 1, 3, 5, 6, 4]\nresult = findPeakElement(nums)\nprint(result)\n",
      "metadata": {
        "trusted": true
      },
      "execution_count": 3,
      "outputs": [
        {
          "name": "stdout",
          "text": "2\n5\n",
          "output_type": "stream"
        }
      ]
    },
    {
      "cell_type": "code",
      "source": "def findDuplicate(nums):\n    slow = 0\n    fast = 0\n    \n    # Move slow and fast pointers to find the meeting point\n    while True:\n        slow = nums[slow]\n        fast = nums[nums[fast]]\n        \n        if slow == fast:\n            break\n    \n    # Move slow back to the initial index and find the meeting point\n    slow = 0\n    while slow != fast:\n        slow = nums[slow]\n        fast = nums[fast]\n    \n    return slow\n\nnums = [1, 3, 4, 2, 2]\nresult = findDuplicate(nums)\nprint(result)\n\nnums = [3, 1, 3, 4, 2]\nresult = findDuplicate(nums)\nprint(result)\n\n",
      "metadata": {
        "trusted": true
      },
      "execution_count": 6,
      "outputs": [
        {
          "name": "stdout",
          "text": "2\n3\n",
          "output_type": "stream"
        }
      ]
    },
    {
      "cell_type": "code",
      "source": "def intersection(nums1, nums2):\n    numSet = set(nums1)\n    intersection = []\n    \n    for num in nums2:\n        if num in numSet:\n            intersection.append(num)\n            numSet.remove(num)\n    \n    return intersection\nnums1 = [1, 2, 2, 1]\nnums2 = [2, 2]\nresult = intersection(nums1, nums2)\nprint(result)\nnums1 = [4, 9, 5]\nnums2 = [9, 4, 9, 8, 4]\nresult = intersection(nums1, nums2)\nprint(result)\n",
      "metadata": {
        "trusted": true
      },
      "execution_count": 7,
      "outputs": [
        {
          "name": "stdout",
          "text": "[2]\n[9, 4]\n",
          "output_type": "stream"
        }
      ]
    },
    {
      "cell_type": "code",
      "source": "def findMin(nums):\n    left = 0\n    right = len(nums) - 1\n    \n    if nums[left] < nums[right]:\n        return nums[left]\n    \n    while left < right:\n        middle = (left + right) // 2\n        \n        if nums[middle] > nums[right]:\n            left = middle + 1\n        else:\n            right = middle\n    \n    return nums[left]\n\nnums = [3, 4, 5, 1, 2]\nresult = findMin(nums)\nprint(result)\n\nnums = [4, 5, 6, 7, 0, 1, 2]\nresult = findMin(nums)\nprint(result)\n\nnums = [11, 13, 15, 17]\nresult = findMin(nums)\nprint(result)\n\n",
      "metadata": {
        "trusted": true
      },
      "execution_count": 9,
      "outputs": [
        {
          "name": "stdout",
          "text": "1\n0\n11\n",
          "output_type": "stream"
        }
      ]
    },
    {
      "cell_type": "code",
      "source": "def searchRange(nums, target):\n    start = -1\n    end = -1\n    \n    # Perform the first binary search to find the starting position\n    left = 0\n    right = len(nums) - 1\n    \n    while left <= right:\n        middle = (left + right) // 2\n        \n        if nums[middle] >= target:\n            right = middle - 1\n        else:\n            left = middle + 1\n    \n    if left < len(nums) and nums[left] == target:\n        start = left\n    \n    # Perform the second binary search to find the ending position\n    left = 0\n    right = len(nums) - 1\n    \n    while left <= right:\n        middle = (left + right) // 2\n        \n        if nums[middle] <= target:\n            left = middle + 1\n        else:\n            right = middle - 1\n    \n    if right >= 0 and nums[right] == target:\n        end = right\n    \n    return [start, end]\n\nnums = [5, 7, 7, 8, 8, 10]\ntarget = 8\nresult = searchRange(nums, target)\nprint(result)\n\nnums = [5, 7, 7, 8, 8, 10]\ntarget = 6\nresult = searchRange(nums, target)\nprint(result)\n\nnums = []\ntarget = 0\nresult = searchRange(nums, target)\nprint(result)\n\n\n",
      "metadata": {
        "trusted": true
      },
      "execution_count": 11,
      "outputs": [
        {
          "name": "stdout",
          "text": "[3, 4]\n[-1, -1]\n[-1, -1]\n",
          "output_type": "stream"
        }
      ]
    },
    {
      "cell_type": "code",
      "source": "from collections import defaultdict\n\ndef intersect(nums1, nums2):\n    freq1 = defaultdict(int)\n    freq2 = defaultdict(int)\n    \n    for num in nums1:\n        freq1[num] += 1\n    \n    intersection = []\n    \n    for num in nums2:\n        if freq1[num] > 0:\n            intersection.append(num)\n            freq1[num] -= 1\n    \n    return intersection\n\nnums1 = [1, 2, 2, 1]\nnums2 = [2, 2]\nresult = intersect(nums1, nums2)\nprint(result)\n\nnums1 = [4, 9, 5]\nnums2 = [9, 4, 9, 8, 4]\nresult = intersect(nums1, nums2)\nprint(result)\n\n",
      "metadata": {
        "trusted": true
      },
      "execution_count": 12,
      "outputs": [
        {
          "name": "stdout",
          "text": "[2, 2]\n[9, 4]\n",
          "output_type": "stream"
        }
      ]
    },
    {
      "cell_type": "code",
      "source": "",
      "metadata": {},
      "execution_count": null,
      "outputs": []
    }
  ]
}